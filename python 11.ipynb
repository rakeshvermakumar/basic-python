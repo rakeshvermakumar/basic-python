{
 "cells": [
  {
   "cell_type": "code",
   "execution_count": 1,
   "metadata": {},
   "outputs": [],
   "source": [
    "#Dictionary\n",
    "#A dictionary is a collection which is unordered, changeable and indexed. \n",
    "#In Python dictionaries are written with curly brackets, and they have keys and values."
   ]
  },
  {
   "cell_type": "code",
   "execution_count": 2,
   "metadata": {},
   "outputs": [
    {
     "name": "stdout",
     "output_type": "stream",
     "text": [
      "{'Class': '11th', 'Branch': 'Science', 'Passing Year': 2019}\n"
     ]
    }
   ],
   "source": [
    "#Create and print a dictionary\n",
    "dict1 = {\n",
    "  \"Class\": \"11th\",\n",
    "  \"Branch\": \"Science\",\n",
    "  \"Passing Year\":2019\n",
    "}\n",
    "print(dict1)"
   ]
  },
  {
   "cell_type": "code",
   "execution_count": 3,
   "metadata": {},
   "outputs": [
    {
     "data": {
      "text/plain": [
       "'Science'"
      ]
     },
     "execution_count": 3,
     "metadata": {},
     "output_type": "execute_result"
    }
   ],
   "source": [
    "#Accessing Items-we can access the items of a dictionary by referring to its key name, inside square brackets.\n",
    "dict1[\"Branch\"]"
   ]
  },
  {
   "cell_type": "code",
   "execution_count": 5,
   "metadata": {},
   "outputs": [
    {
     "data": {
      "text/plain": [
       "'Science'"
      ]
     },
     "execution_count": 5,
     "metadata": {},
     "output_type": "execute_result"
    }
   ],
   "source": [
    "#get()-it will also print same result.\n",
    "x=dict1.get(\"Branch\")\n",
    "x"
   ]
  },
  {
   "cell_type": "code",
   "execution_count": 8,
   "metadata": {},
   "outputs": [
    {
     "data": {
      "text/plain": [
       "{'Class': '11th', 'Branch': 'Science', 'Passing Year': 2018}"
      ]
     },
     "execution_count": 8,
     "metadata": {},
     "output_type": "execute_result"
    }
   ],
   "source": [
    "#Change Values-we can change the value of a specific item by referring to its key name.\n",
    "dict1 = {\n",
    "  \"Class\": \"11th\",\n",
    "  \"Branch\": \"Science\",\n",
    "  \"Passing Year\":2019\n",
    "}\n",
    "dict1[\"Passing Year\"]=2018 #Here the Passing Year become 2018 insted of 2019\n",
    "dict1"
   ]
  },
  {
   "cell_type": "code",
   "execution_count": 12,
   "metadata": {},
   "outputs": [
    {
     "name": "stdout",
     "output_type": "stream",
     "text": [
      "Class\n",
      "Branch\n",
      "Passing Year\n"
     ]
    }
   ],
   "source": [
    "#Loop Through a Dictionary\n",
    "#When looping through a dictionary, the return value are the keys of the dictionary,\n",
    "#but there are methods to return the values as well.\n",
    "dict1 = {\n",
    "  \"Class\": \"11th\",\n",
    "  \"Branch\": \"Science\",\n",
    "  \"Passing Year\":2019\n",
    "}\n",
    "for x in dict1:\n",
    "  print (x)"
   ]
  },
  {
   "cell_type": "code",
   "execution_count": 14,
   "metadata": {},
   "outputs": [
    {
     "name": "stdout",
     "output_type": "stream",
     "text": [
      "11th\n",
      "Science\n",
      "2019\n"
     ]
    }
   ],
   "source": [
    "#To Print all values in the dictionary, one by one\n",
    "dict1 = {\n",
    "  \"Class\": \"11th\",\n",
    "  \"Branch\": \"Science\",\n",
    "  \"Passing Year\":2019\n",
    "}\n",
    "for x in dict1:\n",
    "   print(dict1[x])"
   ]
  },
  {
   "cell_type": "code",
   "execution_count": 15,
   "metadata": {},
   "outputs": [
    {
     "name": "stdout",
     "output_type": "stream",
     "text": [
      "11th\n",
      "Science\n",
      "2019\n"
     ]
    }
   ],
   "source": [
    "dict1 = {\n",
    "  \"Class\": \"11th\",\n",
    "  \"Branch\": \"Science\",\n",
    "  \"Passing Year\":2019\n",
    "}\n",
    "for x in dict1.values():\n",
    "    print(x)"
   ]
  },
  {
   "cell_type": "code",
   "execution_count": 16,
   "metadata": {},
   "outputs": [
    {
     "name": "stdout",
     "output_type": "stream",
     "text": [
      "Class 11th\n",
      "Branch Science\n",
      "Passing Year 2019\n"
     ]
    }
   ],
   "source": [
    "dict1 = {\n",
    "  \"Class\": \"11th\",\n",
    "  \"Branch\": \"Science\",\n",
    "  \"Passing Year\":2019\n",
    "}\n",
    "for x,y in dict1.items():#print both key and values \n",
    "    print(x,y)"
   ]
  },
  {
   "cell_type": "code",
   "execution_count": 18,
   "metadata": {},
   "outputs": [
    {
     "name": "stdout",
     "output_type": "stream",
     "text": [
      "yes\n"
     ]
    }
   ],
   "source": [
    "#if Key Exists\n",
    "dict1 = {\n",
    "  \"Class\": \"11th\",\n",
    "  \"Branch\": \"Science\",\n",
    "  \"Passing Year\":2019\n",
    "}\n",
    "if \"Branch\" in dict1:# Branch is present in given dictionary that's why it return \"yes\"\n",
    " print(\"yes\")"
   ]
  },
  {
   "cell_type": "code",
   "execution_count": 19,
   "metadata": {},
   "outputs": [
    {
     "data": {
      "text/plain": [
       "3"
      ]
     },
     "execution_count": 19,
     "metadata": {},
     "output_type": "execute_result"
    }
   ],
   "source": [
    "dict1 = {\n",
    "  \"Class\": \"11th\",\n",
    "  \"Branch\": \"Science\",\n",
    "  \"Passing Year\":2019\n",
    "}\n",
    "len(dict1)"
   ]
  },
  {
   "cell_type": "code",
   "execution_count": 20,
   "metadata": {},
   "outputs": [
    {
     "name": "stdout",
     "output_type": "stream",
     "text": [
      "{'Class': '11th', 'Branch': 'Science', 'Passing Year': 2019, 'Subject': 'PCM'}\n"
     ]
    }
   ],
   "source": [
    "#Adding Items\n",
    "dict1 = {\n",
    "  \"Class\": \"11th\",\n",
    "  \"Branch\": \"Science\",\n",
    "  \"Passing Year\":2019\n",
    "}\n",
    "dict1[\"Subject\"]=\"PCM\"\n",
    "print(dict1)"
   ]
  },
  {
   "cell_type": "code",
   "execution_count": 21,
   "metadata": {},
   "outputs": [
    {
     "name": "stdout",
     "output_type": "stream",
     "text": [
      "{'Class': '11th', 'Passing Year': 2019}\n"
     ]
    }
   ],
   "source": [
    "#Removing Items\n",
    "#There are several methods to remove items from a dictionary\n",
    "# 1)pop()-The pop() method removes the item with the specified key name\n",
    "dict1 = {\n",
    "  \"Class\": \"11th\",\n",
    "  \"Branch\": \"Science\",\n",
    "  \"Passing Year\":2019\n",
    "}\n",
    "dict1.pop(\"Branch\")\n",
    "print(dict1)"
   ]
  },
  {
   "cell_type": "code",
   "execution_count": 22,
   "metadata": {},
   "outputs": [
    {
     "name": "stdout",
     "output_type": "stream",
     "text": [
      "{'Class': '11th', 'Branch': 'Science'}\n"
     ]
    }
   ],
   "source": [
    "# 2)popitem()\n",
    "dict1 = {\n",
    "  \"Class\": \"11th\",\n",
    "  \"Branch\": \"Science\",\n",
    "  \"Passing Year\":2019\n",
    "}\n",
    "dict1.popitem()# Remove randomly\n",
    "print(dict1)"
   ]
  },
  {
   "cell_type": "code",
   "execution_count": 23,
   "metadata": {},
   "outputs": [
    {
     "name": "stdout",
     "output_type": "stream",
     "text": [
      "{'Branch': 'Science', 'Passing Year': 2019}\n"
     ]
    }
   ],
   "source": [
    "#del\n",
    "dict1 = {\n",
    "  \"Class\": \"11th\",\n",
    "  \"Branch\": \"Science\",\n",
    "  \"Passing Year\":2019\n",
    "}\n",
    "del dict1[\"Class\"]\n",
    "print(dict1)"
   ]
  },
  {
   "cell_type": "code",
   "execution_count": 24,
   "metadata": {},
   "outputs": [
    {
     "name": "stdout",
     "output_type": "stream",
     "text": [
      "{}\n"
     ]
    }
   ],
   "source": [
    "#clear()\n",
    "dict1 = {\n",
    "  \"Class\": \"11th\",\n",
    "  \"Branch\": \"Science\",\n",
    "  \"Passing Year\":2019\n",
    "}\n",
    "dict1.clear()\n",
    "print(dict1)"
   ]
  },
  {
   "cell_type": "code",
   "execution_count": 25,
   "metadata": {},
   "outputs": [
    {
     "name": "stdout",
     "output_type": "stream",
     "text": [
      "{'Class': '11th', 'Branch': 'Science', 'Passing Year': 2019}\n"
     ]
    }
   ],
   "source": [
    "#Copy()-\n",
    "dict1 = {\n",
    "  \"Class\": \"11th\",\n",
    "  \"Branch\": \"Science\",\n",
    "  \"Passing Year\":2019\n",
    "}\n",
    "dict2=dict1.copy()\n",
    "print(dict2)"
   ]
  },
  {
   "cell_type": "code",
   "execution_count": 26,
   "metadata": {},
   "outputs": [
    {
     "name": "stdout",
     "output_type": "stream",
     "text": [
      "{'Class': '11th', 'Branch': 'Science', 'Passing Year': 2019}\n"
     ]
    }
   ],
   "source": [
    "#You cannot copy a dictionary simply by typing dict2 = dict1, because:\n",
    "#dict2 will only be a reference to dict1, and changes made in dict1 will automatically also be made in dict2\n",
    "dict2=dict1\n",
    "print(dict2)"
   ]
  },
  {
   "cell_type": "code",
   "execution_count": 27,
   "metadata": {},
   "outputs": [
    {
     "data": {
      "text/plain": [
       "{'Class': '11th', 'Branch': 'Science', 'Passing Year': 2019}"
      ]
     },
     "execution_count": 27,
     "metadata": {},
     "output_type": "execute_result"
    }
   ],
   "source": [
    "#other way to make a copy is to use the built-in method dict()\n",
    "dict1 = {\n",
    "  \"Class\": \"11th\",\n",
    "  \"Branch\": \"Science\",\n",
    "  \"Passing Year\":2019\n",
    "}\n",
    "dict2=dict(dict1)\n",
    "dict2"
   ]
  },
  {
   "cell_type": "code",
   "execution_count": 51,
   "metadata": {},
   "outputs": [
    {
     "name": "stdout",
     "output_type": "stream",
     "text": [
      "{'Maths': {'class': 10}, 'Scienc': {'Class': 8, 'class': 10}, 'English': {'Class': 5, 'class': 7}}\n"
     ]
    }
   ],
   "source": [
    "#Nested Dictionaries\n",
    "#A dictionary can also contain many dictionaries, this is called nested dictionaries\n",
    "#Create a dictionary that contain three dictionaries\n",
    "MyBook={\n",
    "    \"Maths\" : {\n",
    "        \n",
    "        \"class\": 10,\n",
    "    },\n",
    "        \"Scienc\" : {\n",
    "            \"Class\":8,\n",
    "            \"class\":10,\n",
    "        },\n",
    "\n",
    "                \"English\" : {\n",
    "                    \"Class\":5,\n",
    "                    \"class\":7,\n",
    "                }\n",
    "}\n",
    "\n",
    "print(MyBook)"
   ]
  },
  {
   "cell_type": "code",
   "execution_count": 52,
   "metadata": {},
   "outputs": [
    {
     "name": "stdout",
     "output_type": "stream",
     "text": [
      "{'child1': {'name': 'Rakesh', 'year': 1995}, 'child2': {'name': 'vicky', 'year': 1997}, 'child3': {'name': 'mukesh', 'year': 1993}}\n"
     ]
    }
   ],
   "source": [
    "#Create three dictionaries, than create one dictionary that will contain the other three dictionaries\n",
    "child1 = {\n",
    "  \"name\" : \"Rakesh\",\n",
    "  \"year\" : 1995\n",
    "}\n",
    "child2 = {\n",
    "  \"name\" : \"vicky\",\n",
    "  \"year\" : 1997\n",
    "}\n",
    "child3 = {\n",
    "  \"name\" : \"mukesh\",\n",
    "  \"year\" : 1993\n",
    "}\n",
    "\n",
    "myfamily = {\n",
    "  \"child1\" : child1,\n",
    "  \"child2\" : child2,\n",
    "  \"child3\" : child3\n",
    "}\n",
    "\n",
    "print(myfamily)"
   ]
  },
  {
   "cell_type": "code",
   "execution_count": 53,
   "metadata": {},
   "outputs": [
    {
     "name": "stdout",
     "output_type": "stream",
     "text": [
      "{'brand': 'Ford', 'model': 'Mustang', 'year': 1964}\n"
     ]
    }
   ],
   "source": [
    "#dict() Constructor\n",
    "thisdict = dict(brand=\"Ford\", model=\"Mustang\", year=1964)\n",
    "#  keywords are not string literals\n",
    "# the use of equals rather than colon for the assignment\n",
    "print(thisdict)"
   ]
  },
  {
   "cell_type": "code",
   "execution_count": 55,
   "metadata": {},
   "outputs": [
    {
     "name": "stdout",
     "output_type": "stream",
     "text": [
      "{'brand': 'F', 'model': 'M', 'year': 2012, 'color': 'White'}\n"
     ]
    }
   ],
   "source": [
    "#update()\n",
    "car = {\n",
    "  \"brand\": \"F\",\n",
    "  \"model\": \"M\",\n",
    "  \"year\": 2012\n",
    "}\n",
    "\n",
    "car.update({\"color\": \"White\"})\n",
    "\n",
    "print(car)"
   ]
  },
  {
   "cell_type": "code",
   "execution_count": null,
   "metadata": {},
   "outputs": [],
   "source": []
  }
 ],
 "metadata": {
  "kernelspec": {
   "display_name": "Python 3",
   "language": "python",
   "name": "python3"
  },
  "language_info": {
   "codemirror_mode": {
    "name": "ipython",
    "version": 3
   },
   "file_extension": ".py",
   "mimetype": "text/x-python",
   "name": "python",
   "nbconvert_exporter": "python",
   "pygments_lexer": "ipython3",
   "version": "3.7.6"
  }
 },
 "nbformat": 4,
 "nbformat_minor": 4
}
