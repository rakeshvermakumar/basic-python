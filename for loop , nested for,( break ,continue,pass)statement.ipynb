{
 "cells": [
  {
   "cell_type": "code",
   "execution_count": 1,
   "metadata": {},
   "outputs": [],
   "source": [
    "#A for loop in Python requires at least two variables to work. \n",
    "#The first is the iterable object such as a list, tuple or a string.\n",
    "#And second is the variable to store the successive values from the sequence in the loop\n",
    "                #Python For Loop Syntax\n",
    "          for iter in sequence:\n",
    "         statements(iter)\n",
    "#The “iter” represents the iterating variable"
   ]
  },
  {
   "cell_type": "code",
   "execution_count": 4,
   "metadata": {
    "scrolled": true
   },
   "outputs": [
    {
     "name": "stdout",
     "output_type": "stream",
     "text": [
      "a\n",
      "b\n",
      "c\n"
     ]
    }
   ],
   "source": [
    "n = [\"a\", \"b\", \"c\"]\n",
    "for x in n:\n",
    "  print(x)"
   ]
  },
  {
   "cell_type": "code",
   "execution_count": null,
   "metadata": {},
   "outputs": [],
   "source": [
    "#for loop for integer\n",
    "x=[1,2,3,4,5,6]\n",
    "for n in x:\n",
    "    print(n)"
   ]
  },
  {
   "cell_type": "code",
   "execution_count": 3,
   "metadata": {},
   "outputs": [
    {
     "name": "stdout",
     "output_type": "stream",
     "text": [
      "r\n",
      "a\n",
      "k\n",
      "e\n",
      "s\n",
      "h\n"
     ]
    }
   ],
   "source": [
    "#Looping Through a String\n",
    "for x in \"rakesh\":\n",
    "  print(x)"
   ]
  },
  {
   "cell_type": "code",
   "execution_count": 5,
   "metadata": {},
   "outputs": [
    {
     "name": "stdout",
     "output_type": "stream",
     "text": [
      "Mukesh\n",
      "Rakesh\n"
     ]
    }
   ],
   "source": [
    "#Break Statement in for loop- The break statement we can stop the loop before it has looped through all the items\n",
    "n = [\"Mukesh\", \"Rakesh\", \"vikesh\"]\n",
    "for x in n:\n",
    "  print(x)\n",
    "  if x == \"Rakesh\": #after rakesh the loop will break\n",
    "    break "
   ]
  },
  {
   "cell_type": "code",
   "execution_count": 16,
   "metadata": {},
   "outputs": [
    {
     "name": "stdout",
     "output_type": "stream",
     "text": [
      "1\n",
      "2\n"
     ]
    }
   ],
   "source": [
    "x=[1,2,3,4,5,6]\n",
    "for n in x:\n",
    "    print(n)\n",
    "    if n==2:\n",
    "        break"
   ]
  },
  {
   "cell_type": "code",
   "execution_count": 11,
   "metadata": {},
   "outputs": [
    {
     "name": "stdout",
     "output_type": "stream",
     "text": [
      "Rakesh\n"
     ]
    }
   ],
   "source": [
    "n = [\"Mukesh\", \"Rakesh\", \"vikesh\"]\n",
    "for x in n:\n",
    "  if x == \"Rakesh\": #befor rakesh the loop will break\n",
    "    break\n",
    "print(x)"
   ]
  },
  {
   "cell_type": "code",
   "execution_count": 23,
   "metadata": {},
   "outputs": [
    {
     "name": "stdout",
     "output_type": "stream",
     "text": [
      "1\n",
      "2\n",
      "3\n",
      "4\n",
      "5\n"
     ]
    }
   ],
   "source": [
    "x=[1,2,3,4,5,6]\n",
    "for n in x:\n",
    "    if n==6:\n",
    "        break \n",
    "    print(n)       "
   ]
  },
  {
   "cell_type": "code",
   "execution_count": 14,
   "metadata": {},
   "outputs": [
    {
     "name": "stdout",
     "output_type": "stream",
     "text": [
      "vikesh\n"
     ]
    }
   ],
   "source": [
    "#continue Statement- The continue statement we can stop the current iteration of the loop, and continue with the next\n",
    "n = [\"Mukesh\", \"Rakesh\", \"vikesh\"]\n",
    "for x in n:\n",
    "  if x == \"Rakesh\": #after rakesh the value will print from given loop\n",
    "    continue\n",
    "print(x)"
   ]
  },
  {
   "cell_type": "code",
   "execution_count": 24,
   "metadata": {},
   "outputs": [
    {
     "name": "stdout",
     "output_type": "stream",
     "text": [
      "0\n",
      "1\n",
      "2\n",
      "3\n",
      "4\n",
      "5\n",
      "6\n",
      "7\n",
      "8\n",
      "9\n"
     ]
    }
   ],
   "source": [
    "#range() Function-The range() function returns a sequence of numbers\n",
    "#starting from 0 by default and increments by 1 (by default), and ends at a specified number.\n",
    "for x in range(10):\n",
    "  print(x)"
   ]
  },
  {
   "cell_type": "code",
   "execution_count": 25,
   "metadata": {},
   "outputs": [
    {
     "name": "stdout",
     "output_type": "stream",
     "text": [
      "2\n",
      "3\n",
      "4\n",
      "5\n",
      "6\n",
      "7\n",
      "8\n",
      "9\n"
     ]
    }
   ],
   "source": [
    "for x in range(2, 10):\n",
    "  print(x)"
   ]
  },
  {
   "cell_type": "code",
   "execution_count": 26,
   "metadata": {},
   "outputs": [
    {
     "name": "stdout",
     "output_type": "stream",
     "text": [
      "2\n",
      "5\n",
      "8\n",
      "11\n",
      "14\n",
      "17\n"
     ]
    }
   ],
   "source": [
    "#The range() function defaults to increment the sequence by 1,\n",
    "#however it is possible to specify the increment value by adding a third parameter: range(2, 20, 3)\n",
    "for x in range(2, 20, 3): #increment by 3\n",
    "  print(x)"
   ]
  },
  {
   "cell_type": "code",
   "execution_count": 27,
   "metadata": {},
   "outputs": [
    {
     "name": "stdout",
     "output_type": "stream",
     "text": [
      "0\n",
      "1\n",
      "2\n",
      "3\n",
      "4\n",
      "5\n",
      "6\n",
      "7\n",
      "8\n",
      "9\n",
      "Hello Rakesh!\n"
     ]
    }
   ],
   "source": [
    "#Else in For Loop-The else keyword in a for loop specifies a block of code to be executed when the loop is finished\n",
    "for x in range(10):\n",
    "  print(x)\n",
    "else:\n",
    "  print(\"Hello Rakesh!\")"
   ]
  },
  {
   "cell_type": "code",
   "execution_count": 28,
   "metadata": {},
   "outputs": [
    {
     "name": "stdout",
     "output_type": "stream",
     "text": [
      "lectuer Mukesh\n",
      "lectuer Rakesh\n",
      "lectuer vikesh\n",
      "Teacher Mukesh\n",
      "Teacher Rakesh\n",
      "Teacher vikesh\n",
      "Engineer Mukesh\n",
      "Engineer Rakesh\n",
      "Engineer vikesh\n"
     ]
    }
   ],
   "source": [
    "#Nested Loops\n",
    "occu=[\"lectuer\",\"Teacher\",\"Engineer\"]\n",
    "name=[\"Mukesh\",\"Rakesh\",\"vikesh\"]\n",
    "for x in occu:\n",
    "    for y in name:\n",
    "        print(x,y)"
   ]
  },
  {
   "cell_type": "code",
   "execution_count": 35,
   "metadata": {},
   "outputs": [],
   "source": [
    "#The pass Statement-for loops cannot be empty, \n",
    "#but if  for some reason have a for loop with no content\n",
    "#put pass statement to avoid getting an error in for loop\n",
    "for x in [1,2,3,4]:\n",
    "    pass"
   ]
  },
  {
   "cell_type": "code",
   "execution_count": null,
   "metadata": {},
   "outputs": [],
   "source": []
  }
 ],
 "metadata": {
  "kernelspec": {
   "display_name": "Python 3",
   "language": "python",
   "name": "python3"
  },
  "language_info": {
   "codemirror_mode": {
    "name": "ipython",
    "version": 3
   },
   "file_extension": ".py",
   "mimetype": "text/x-python",
   "name": "python",
   "nbconvert_exporter": "python",
   "pygments_lexer": "ipython3",
   "version": "3.7.6"
  }
 },
 "nbformat": 4,
 "nbformat_minor": 4
}
